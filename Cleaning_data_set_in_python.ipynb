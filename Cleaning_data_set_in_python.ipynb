{
  "cells": [
    {
      "cell_type": "code",
      "source": [
        "import pandas as pd\n"
      ],
      "metadata": {
        "id": "6ju_c3bThp7Q"
      },
      "execution_count": null,
      "outputs": []
    },
    {
      "cell_type": "markdown",
      "source": [
        "Load the dataset"
      ],
      "metadata": {
        "id": "3IY9B1RBi3vm"
      }
    },
    {
      "cell_type": "code",
      "source": [
        "file_path = '/content/Dataset Assignment 2.xlsx'"
      ],
      "metadata": {
        "id": "xW_4ORU7imJZ"
      },
      "execution_count": null,
      "outputs": []
    },
    {
      "cell_type": "code",
      "source": [
        "data = pd.read_excel(file_path)"
      ],
      "metadata": {
        "id": "jPi3Qyhli9LS"
      },
      "execution_count": null,
      "outputs": []
    },
    {
      "cell_type": "markdown",
      "source": [
        "Remove Duplicates"
      ],
      "metadata": {
        "id": "vJmVI_WZjC4t"
      }
    },
    {
      "cell_type": "code",
      "source": [
        "duplicates = data.duplicated()"
      ],
      "metadata": {
        "id": "i1jf3t_jjOum"
      },
      "execution_count": null,
      "outputs": []
    },
    {
      "cell_type": "code",
      "source": [
        "num_duplicates = duplicates.sum()"
      ],
      "metadata": {
        "id": "_HICzUlTjRqq"
      },
      "execution_count": null,
      "outputs": []
    },
    {
      "cell_type": "code",
      "source": [
        "print(f\"Number of duplicate rows: {num_duplicates}\")"
      ],
      "metadata": {
        "colab": {
          "base_uri": "https://localhost:8080/"
        },
        "id": "TMxlOV0kjUvL",
        "outputId": "e6808834-438f-4365-a35e-c3119a339e2d"
      },
      "execution_count": null,
      "outputs": [
        {
          "output_type": "stream",
          "name": "stdout",
          "text": [
            "Number of duplicate rows: 0\n"
          ]
        }
      ]
    },
    {
      "cell_type": "markdown",
      "source": [
        "Remove duplicate rows"
      ],
      "metadata": {
        "id": "YXFx1hIAjdOK"
      }
    },
    {
      "cell_type": "code",
      "source": [
        "data_cleaned = data.drop_duplicates()"
      ],
      "metadata": {
        "id": "p-8hBxFGjbyc"
      },
      "execution_count": null,
      "outputs": []
    },
    {
      "cell_type": "markdown",
      "source": [
        " Step 2: Handle Missing Values\n",
        " Identify missing values"
      ],
      "metadata": {
        "id": "jxelopPzjkI1"
      }
    },
    {
      "cell_type": "code",
      "source": [
        "missing_values = data_cleaned.isnull().sum()"
      ],
      "metadata": {
        "id": "LtIaKlGjjX1E"
      },
      "execution_count": null,
      "outputs": []
    },
    {
      "cell_type": "code",
      "source": [
        "print(\"Missing values in each column:\\n\", missing_values)"
      ],
      "metadata": {
        "colab": {
          "base_uri": "https://localhost:8080/"
        },
        "id": "TZWDxortjr9U",
        "outputId": "452cbf9f-d0ad-4d00-d8d7-41f05954c617"
      },
      "execution_count": null,
      "outputs": [
        {
          "output_type": "stream",
          "name": "stdout",
          "text": [
            "Missing values in each column:\n",
            " Route                      0\n",
            "Departing Port             0\n",
            "Arriving Port              0\n",
            "Airline                    0\n",
            "Month                      0\n",
            "Sectors Scheduled          0\n",
            "Sectors Flown              0\n",
            "Cancellations              0\n",
            "Departures On Time         0\n",
            "Arrivals On Time           0\n",
            "Departures Delayed         0\n",
            "Arrivals Delayed           0\n",
            "OnTime Departures \\n(%)    0\n",
            "OnTime Arrivals \\n(%)      0\n",
            "Cancellations \\n\\n(%)      0\n",
            "dtype: int64\n"
          ]
        }
      ]
    },
    {
      "cell_type": "markdown",
      "source": [
        "# Fill missing values"
      ],
      "metadata": {
        "id": "De1CdsJwjyJf"
      }
    },
    {
      "cell_type": "code",
      "source": [
        "for column in data_cleaned.columns:\n",
        "    if data_cleaned[column].dtype == 'object':\n",
        "        data_cleaned[column].fillna(data_cleaned[column].mode()[0], inplace=True)\n",
        "    else:\n",
        "        data_cleaned[column].fillna(data_cleaned[column].median(), inplace=True)\n"
      ],
      "metadata": {
        "id": "jIialH0MjuCE"
      },
      "execution_count": null,
      "outputs": []
    },
    {
      "cell_type": "markdown",
      "source": [
        "# Step 3: Correct Data Types"
      ],
      "metadata": {
        "id": "brxd2EL5j683"
      }
    },
    {
      "cell_type": "code",
      "source": [
        "data_cleaned['Month'] = pd.to_datetime(data_cleaned['Month'])"
      ],
      "metadata": {
        "id": "VjyOVbN1j3rQ"
      },
      "execution_count": null,
      "outputs": []
    },
    {
      "cell_type": "markdown",
      "source": [
        "# Step 4: Standardize Formats"
      ],
      "metadata": {
        "id": "GFXDzGmNkBC5"
      }
    },
    {
      "cell_type": "code",
      "source": [
        "categorical_columns = ['Route', 'Departing Port', 'Arriving Port', 'Airline']\n",
        "for column in categorical_columns:\n",
        "    data_cleaned[column] = data_cleaned[column].str.strip()"
      ],
      "metadata": {
        "id": "rH3TqUz_j9_V"
      },
      "execution_count": null,
      "outputs": []
    },
    {
      "cell_type": "markdown",
      "source": [
        "# Step 5: Check for Outliers"
      ],
      "metadata": {
        "id": "RXDEFGzqkE_a"
      }
    },
    {
      "cell_type": "code",
      "source": [
        "numeric_columns = data_cleaned.select_dtypes(include=['number']).columns\n",
        "outliers_info = {}\n",
        "for column in numeric_columns:\n",
        "    Q1 = data_cleaned[column].quantile(0.25)\n",
        "    Q3 = data_cleaned[column].quantile(0.75)\n",
        "    IQR = Q3 - Q1\n",
        "    outliers = ((data_cleaned[column] < (Q1 - 1.5 * IQR)) | (data_cleaned[column] > (Q3 + 1.5 * IQR)))\n",
        "    outliers_info[column] = outliers.sum()\n",
        "print(\"Outliers in each numeric column:\\n\", outliers_info)\n"
      ],
      "metadata": {
        "colab": {
          "base_uri": "https://localhost:8080/"
        },
        "id": "eIRXVgDpkD61",
        "outputId": "df61cd7e-77f0-4c6c-cb3a-2920032b6af7"
      },
      "execution_count": null,
      "outputs": [
        {
          "output_type": "stream",
          "name": "stdout",
          "text": [
            "Outliers in each numeric column:\n",
            " {'Sectors Scheduled': 1882, 'Sectors Flown': 1864, 'Cancellations': 2599, 'Departures On Time': 1678, 'Arrivals On Time': 1695, 'Departures Delayed': 2142, 'Arrivals Delayed': 2233, 'Cancellations \\n\\n(%)': 2161}\n"
          ]
        }
      ]
    },
    {
      "cell_type": "markdown",
      "source": [
        "# Step 6: Save Cleaned Data"
      ],
      "metadata": {
        "id": "JkhGXlockOpT"
      }
    },
    {
      "cell_type": "code",
      "source": [
        "cleaned_file_path = '/content/Dataset Assignment 2.xlsx'\n",
        "data_cleaned.to_excel(cleaned_file_path, index=False)"
      ],
      "metadata": {
        "id": "5p4ZBpYtkJ0i"
      },
      "execution_count": null,
      "outputs": []
    },
    {
      "cell_type": "markdown",
      "source": [
        "# Display the first few rows of cleaned dataset"
      ],
      "metadata": {
        "id": "EQBbIidLkjOk"
      }
    },
    {
      "cell_type": "code",
      "source": [
        "data_cleaned.head()"
      ],
      "metadata": {
        "colab": {
          "base_uri": "https://localhost:8080/",
          "height": 365
        },
        "id": "4TtfA3mgkj9Z",
        "outputId": "266abbc7-6013-4831-f7a0-0b44c470fde9"
      },
      "execution_count": null,
      "outputs": [
        {
          "output_type": "execute_result",
          "data": {
            "text/plain": [
              "                 Route Departing Port Arriving Port  Airline      Month  \\\n",
              "0    Adelaide-Brisbane       Adelaide      Brisbane  Jetstar 2020-01-01   \n",
              "1  Adelaide-Gold Coast       Adelaide    Gold Coast  Jetstar 2020-01-01   \n",
              "2   Adelaide-Melbourne       Adelaide     Melbourne  Jetstar 2020-01-01   \n",
              "3       Adelaide-Perth       Adelaide         Perth  Jetstar 2020-01-01   \n",
              "4      Adelaide-Sydney       Adelaide        Sydney  Jetstar 2020-01-01   \n",
              "\n",
              "   Sectors Scheduled  Sectors Flown  Cancellations  Departures On Time  \\\n",
              "0                 30             27              3                  18   \n",
              "1                 31             30              1                  15   \n",
              "2                119            106             13                  61   \n",
              "3                 21             20              1                  11   \n",
              "4                 91             87              4                  69   \n",
              "\n",
              "   Arrivals On Time  Departures Delayed  Arrivals Delayed  \\\n",
              "0                19                   9                 8   \n",
              "1                14                  15                16   \n",
              "2                66                  45                40   \n",
              "3                16                   9                 4   \n",
              "4                69                  18                18   \n",
              "\n",
              "  OnTime Departures \\n(%) OnTime Arrivals \\n(%)  Cancellations \\n\\n(%)  \n",
              "0               66.666667              70.37037              10.000000  \n",
              "1                      50             46.666667               3.225806  \n",
              "2                57.54717             62.264151              10.924370  \n",
              "3                    55.0                    80               4.761905  \n",
              "4               79.310345             79.310345               4.395604  "
            ],
            "text/html": [
              "\n",
              "  <div id=\"df-b6c7c892-042f-4a4e-905b-7a58fbfb7b61\" class=\"colab-df-container\">\n",
              "    <div>\n",
              "<style scoped>\n",
              "    .dataframe tbody tr th:only-of-type {\n",
              "        vertical-align: middle;\n",
              "    }\n",
              "\n",
              "    .dataframe tbody tr th {\n",
              "        vertical-align: top;\n",
              "    }\n",
              "\n",
              "    .dataframe thead th {\n",
              "        text-align: right;\n",
              "    }\n",
              "</style>\n",
              "<table border=\"1\" class=\"dataframe\">\n",
              "  <thead>\n",
              "    <tr style=\"text-align: right;\">\n",
              "      <th></th>\n",
              "      <th>Route</th>\n",
              "      <th>Departing Port</th>\n",
              "      <th>Arriving Port</th>\n",
              "      <th>Airline</th>\n",
              "      <th>Month</th>\n",
              "      <th>Sectors Scheduled</th>\n",
              "      <th>Sectors Flown</th>\n",
              "      <th>Cancellations</th>\n",
              "      <th>Departures On Time</th>\n",
              "      <th>Arrivals On Time</th>\n",
              "      <th>Departures Delayed</th>\n",
              "      <th>Arrivals Delayed</th>\n",
              "      <th>OnTime Departures \\n(%)</th>\n",
              "      <th>OnTime Arrivals \\n(%)</th>\n",
              "      <th>Cancellations \\n\\n(%)</th>\n",
              "    </tr>\n",
              "  </thead>\n",
              "  <tbody>\n",
              "    <tr>\n",
              "      <th>0</th>\n",
              "      <td>Adelaide-Brisbane</td>\n",
              "      <td>Adelaide</td>\n",
              "      <td>Brisbane</td>\n",
              "      <td>Jetstar</td>\n",
              "      <td>2020-01-01</td>\n",
              "      <td>30</td>\n",
              "      <td>27</td>\n",
              "      <td>3</td>\n",
              "      <td>18</td>\n",
              "      <td>19</td>\n",
              "      <td>9</td>\n",
              "      <td>8</td>\n",
              "      <td>66.666667</td>\n",
              "      <td>70.37037</td>\n",
              "      <td>10.000000</td>\n",
              "    </tr>\n",
              "    <tr>\n",
              "      <th>1</th>\n",
              "      <td>Adelaide-Gold Coast</td>\n",
              "      <td>Adelaide</td>\n",
              "      <td>Gold Coast</td>\n",
              "      <td>Jetstar</td>\n",
              "      <td>2020-01-01</td>\n",
              "      <td>31</td>\n",
              "      <td>30</td>\n",
              "      <td>1</td>\n",
              "      <td>15</td>\n",
              "      <td>14</td>\n",
              "      <td>15</td>\n",
              "      <td>16</td>\n",
              "      <td>50</td>\n",
              "      <td>46.666667</td>\n",
              "      <td>3.225806</td>\n",
              "    </tr>\n",
              "    <tr>\n",
              "      <th>2</th>\n",
              "      <td>Adelaide-Melbourne</td>\n",
              "      <td>Adelaide</td>\n",
              "      <td>Melbourne</td>\n",
              "      <td>Jetstar</td>\n",
              "      <td>2020-01-01</td>\n",
              "      <td>119</td>\n",
              "      <td>106</td>\n",
              "      <td>13</td>\n",
              "      <td>61</td>\n",
              "      <td>66</td>\n",
              "      <td>45</td>\n",
              "      <td>40</td>\n",
              "      <td>57.54717</td>\n",
              "      <td>62.264151</td>\n",
              "      <td>10.924370</td>\n",
              "    </tr>\n",
              "    <tr>\n",
              "      <th>3</th>\n",
              "      <td>Adelaide-Perth</td>\n",
              "      <td>Adelaide</td>\n",
              "      <td>Perth</td>\n",
              "      <td>Jetstar</td>\n",
              "      <td>2020-01-01</td>\n",
              "      <td>21</td>\n",
              "      <td>20</td>\n",
              "      <td>1</td>\n",
              "      <td>11</td>\n",
              "      <td>16</td>\n",
              "      <td>9</td>\n",
              "      <td>4</td>\n",
              "      <td>55.0</td>\n",
              "      <td>80</td>\n",
              "      <td>4.761905</td>\n",
              "    </tr>\n",
              "    <tr>\n",
              "      <th>4</th>\n",
              "      <td>Adelaide-Sydney</td>\n",
              "      <td>Adelaide</td>\n",
              "      <td>Sydney</td>\n",
              "      <td>Jetstar</td>\n",
              "      <td>2020-01-01</td>\n",
              "      <td>91</td>\n",
              "      <td>87</td>\n",
              "      <td>4</td>\n",
              "      <td>69</td>\n",
              "      <td>69</td>\n",
              "      <td>18</td>\n",
              "      <td>18</td>\n",
              "      <td>79.310345</td>\n",
              "      <td>79.310345</td>\n",
              "      <td>4.395604</td>\n",
              "    </tr>\n",
              "  </tbody>\n",
              "</table>\n",
              "</div>\n",
              "    <div class=\"colab-df-buttons\">\n",
              "\n",
              "  <div class=\"colab-df-container\">\n",
              "    <button class=\"colab-df-convert\" onclick=\"convertToInteractive('df-b6c7c892-042f-4a4e-905b-7a58fbfb7b61')\"\n",
              "            title=\"Convert this dataframe to an interactive table.\"\n",
              "            style=\"display:none;\">\n",
              "\n",
              "  <svg xmlns=\"http://www.w3.org/2000/svg\" height=\"24px\" viewBox=\"0 -960 960 960\">\n",
              "    <path d=\"M120-120v-720h720v720H120Zm60-500h600v-160H180v160Zm220 220h160v-160H400v160Zm0 220h160v-160H400v160ZM180-400h160v-160H180v160Zm440 0h160v-160H620v160ZM180-180h160v-160H180v160Zm440 0h160v-160H620v160Z\"/>\n",
              "  </svg>\n",
              "    </button>\n",
              "\n",
              "  <style>\n",
              "    .colab-df-container {\n",
              "      display:flex;\n",
              "      gap: 12px;\n",
              "    }\n",
              "\n",
              "    .colab-df-convert {\n",
              "      background-color: #E8F0FE;\n",
              "      border: none;\n",
              "      border-radius: 50%;\n",
              "      cursor: pointer;\n",
              "      display: none;\n",
              "      fill: #1967D2;\n",
              "      height: 32px;\n",
              "      padding: 0 0 0 0;\n",
              "      width: 32px;\n",
              "    }\n",
              "\n",
              "    .colab-df-convert:hover {\n",
              "      background-color: #E2EBFA;\n",
              "      box-shadow: 0px 1px 2px rgba(60, 64, 67, 0.3), 0px 1px 3px 1px rgba(60, 64, 67, 0.15);\n",
              "      fill: #174EA6;\n",
              "    }\n",
              "\n",
              "    .colab-df-buttons div {\n",
              "      margin-bottom: 4px;\n",
              "    }\n",
              "\n",
              "    [theme=dark] .colab-df-convert {\n",
              "      background-color: #3B4455;\n",
              "      fill: #D2E3FC;\n",
              "    }\n",
              "\n",
              "    [theme=dark] .colab-df-convert:hover {\n",
              "      background-color: #434B5C;\n",
              "      box-shadow: 0px 1px 3px 1px rgba(0, 0, 0, 0.15);\n",
              "      filter: drop-shadow(0px 1px 2px rgba(0, 0, 0, 0.3));\n",
              "      fill: #FFFFFF;\n",
              "    }\n",
              "  </style>\n",
              "\n",
              "    <script>\n",
              "      const buttonEl =\n",
              "        document.querySelector('#df-b6c7c892-042f-4a4e-905b-7a58fbfb7b61 button.colab-df-convert');\n",
              "      buttonEl.style.display =\n",
              "        google.colab.kernel.accessAllowed ? 'block' : 'none';\n",
              "\n",
              "      async function convertToInteractive(key) {\n",
              "        const element = document.querySelector('#df-b6c7c892-042f-4a4e-905b-7a58fbfb7b61');\n",
              "        const dataTable =\n",
              "          await google.colab.kernel.invokeFunction('convertToInteractive',\n",
              "                                                    [key], {});\n",
              "        if (!dataTable) return;\n",
              "\n",
              "        const docLinkHtml = 'Like what you see? Visit the ' +\n",
              "          '<a target=\"_blank\" href=https://colab.research.google.com/notebooks/data_table.ipynb>data table notebook</a>'\n",
              "          + ' to learn more about interactive tables.';\n",
              "        element.innerHTML = '';\n",
              "        dataTable['output_type'] = 'display_data';\n",
              "        await google.colab.output.renderOutput(dataTable, element);\n",
              "        const docLink = document.createElement('div');\n",
              "        docLink.innerHTML = docLinkHtml;\n",
              "        element.appendChild(docLink);\n",
              "      }\n",
              "    </script>\n",
              "  </div>\n",
              "\n",
              "\n",
              "<div id=\"df-4499c624-e847-4a5c-82b0-d96773b8431b\">\n",
              "  <button class=\"colab-df-quickchart\" onclick=\"quickchart('df-4499c624-e847-4a5c-82b0-d96773b8431b')\"\n",
              "            title=\"Suggest charts\"\n",
              "            style=\"display:none;\">\n",
              "\n",
              "<svg xmlns=\"http://www.w3.org/2000/svg\" height=\"24px\"viewBox=\"0 0 24 24\"\n",
              "     width=\"24px\">\n",
              "    <g>\n",
              "        <path d=\"M19 3H5c-1.1 0-2 .9-2 2v14c0 1.1.9 2 2 2h14c1.1 0 2-.9 2-2V5c0-1.1-.9-2-2-2zM9 17H7v-7h2v7zm4 0h-2V7h2v10zm4 0h-2v-4h2v4z\"/>\n",
              "    </g>\n",
              "</svg>\n",
              "  </button>\n",
              "\n",
              "<style>\n",
              "  .colab-df-quickchart {\n",
              "      --bg-color: #E8F0FE;\n",
              "      --fill-color: #1967D2;\n",
              "      --hover-bg-color: #E2EBFA;\n",
              "      --hover-fill-color: #174EA6;\n",
              "      --disabled-fill-color: #AAA;\n",
              "      --disabled-bg-color: #DDD;\n",
              "  }\n",
              "\n",
              "  [theme=dark] .colab-df-quickchart {\n",
              "      --bg-color: #3B4455;\n",
              "      --fill-color: #D2E3FC;\n",
              "      --hover-bg-color: #434B5C;\n",
              "      --hover-fill-color: #FFFFFF;\n",
              "      --disabled-bg-color: #3B4455;\n",
              "      --disabled-fill-color: #666;\n",
              "  }\n",
              "\n",
              "  .colab-df-quickchart {\n",
              "    background-color: var(--bg-color);\n",
              "    border: none;\n",
              "    border-radius: 50%;\n",
              "    cursor: pointer;\n",
              "    display: none;\n",
              "    fill: var(--fill-color);\n",
              "    height: 32px;\n",
              "    padding: 0;\n",
              "    width: 32px;\n",
              "  }\n",
              "\n",
              "  .colab-df-quickchart:hover {\n",
              "    background-color: var(--hover-bg-color);\n",
              "    box-shadow: 0 1px 2px rgba(60, 64, 67, 0.3), 0 1px 3px 1px rgba(60, 64, 67, 0.15);\n",
              "    fill: var(--button-hover-fill-color);\n",
              "  }\n",
              "\n",
              "  .colab-df-quickchart-complete:disabled,\n",
              "  .colab-df-quickchart-complete:disabled:hover {\n",
              "    background-color: var(--disabled-bg-color);\n",
              "    fill: var(--disabled-fill-color);\n",
              "    box-shadow: none;\n",
              "  }\n",
              "\n",
              "  .colab-df-spinner {\n",
              "    border: 2px solid var(--fill-color);\n",
              "    border-color: transparent;\n",
              "    border-bottom-color: var(--fill-color);\n",
              "    animation:\n",
              "      spin 1s steps(1) infinite;\n",
              "  }\n",
              "\n",
              "  @keyframes spin {\n",
              "    0% {\n",
              "      border-color: transparent;\n",
              "      border-bottom-color: var(--fill-color);\n",
              "      border-left-color: var(--fill-color);\n",
              "    }\n",
              "    20% {\n",
              "      border-color: transparent;\n",
              "      border-left-color: var(--fill-color);\n",
              "      border-top-color: var(--fill-color);\n",
              "    }\n",
              "    30% {\n",
              "      border-color: transparent;\n",
              "      border-left-color: var(--fill-color);\n",
              "      border-top-color: var(--fill-color);\n",
              "      border-right-color: var(--fill-color);\n",
              "    }\n",
              "    40% {\n",
              "      border-color: transparent;\n",
              "      border-right-color: var(--fill-color);\n",
              "      border-top-color: var(--fill-color);\n",
              "    }\n",
              "    60% {\n",
              "      border-color: transparent;\n",
              "      border-right-color: var(--fill-color);\n",
              "    }\n",
              "    80% {\n",
              "      border-color: transparent;\n",
              "      border-right-color: var(--fill-color);\n",
              "      border-bottom-color: var(--fill-color);\n",
              "    }\n",
              "    90% {\n",
              "      border-color: transparent;\n",
              "      border-bottom-color: var(--fill-color);\n",
              "    }\n",
              "  }\n",
              "</style>\n",
              "\n",
              "  <script>\n",
              "    async function quickchart(key) {\n",
              "      const quickchartButtonEl =\n",
              "        document.querySelector('#' + key + ' button');\n",
              "      quickchartButtonEl.disabled = true;  // To prevent multiple clicks.\n",
              "      quickchartButtonEl.classList.add('colab-df-spinner');\n",
              "      try {\n",
              "        const charts = await google.colab.kernel.invokeFunction(\n",
              "            'suggestCharts', [key], {});\n",
              "      } catch (error) {\n",
              "        console.error('Error during call to suggestCharts:', error);\n",
              "      }\n",
              "      quickchartButtonEl.classList.remove('colab-df-spinner');\n",
              "      quickchartButtonEl.classList.add('colab-df-quickchart-complete');\n",
              "    }\n",
              "    (() => {\n",
              "      let quickchartButtonEl =\n",
              "        document.querySelector('#df-4499c624-e847-4a5c-82b0-d96773b8431b button');\n",
              "      quickchartButtonEl.style.display =\n",
              "        google.colab.kernel.accessAllowed ? 'block' : 'none';\n",
              "    })();\n",
              "  </script>\n",
              "</div>\n",
              "\n",
              "    </div>\n",
              "  </div>\n"
            ],
            "application/vnd.google.colaboratory.intrinsic+json": {
              "type": "dataframe",
              "variable_name": "data_cleaned",
              "summary": "{\n  \"name\": \"data_cleaned\",\n  \"rows\": 22037,\n  \"fields\": [\n    {\n      \"column\": \"Route\",\n      \"properties\": {\n        \"dtype\": \"category\",\n        \"num_unique_values\": 141,\n        \"samples\": [\n          \"Townsville-Brisbane\",\n          \"Dubbo-Sydney\",\n          \"Launceston-Sydney\"\n        ],\n        \"semantic_type\": \"\",\n        \"description\": \"\"\n      }\n    },\n    {\n      \"column\": \"Departing Port\",\n      \"properties\": {\n        \"dtype\": \"category\",\n        \"num_unique_values\": 41,\n        \"samples\": [\n          \"Newman\",\n          \"Perth\",\n          \"Hobart\"\n        ],\n        \"semantic_type\": \"\",\n        \"description\": \"\"\n      }\n    },\n    {\n      \"column\": \"Arriving Port\",\n      \"properties\": {\n        \"dtype\": \"category\",\n        \"num_unique_values\": 41,\n        \"samples\": [\n          \"Newman\",\n          \"Launceston\",\n          \"Hobart\"\n        ],\n        \"semantic_type\": \"\",\n        \"description\": \"\"\n      }\n    },\n    {\n      \"column\": \"Airline\",\n      \"properties\": {\n        \"dtype\": \"category\",\n        \"num_unique_values\": 12,\n        \"samples\": [\n          \"Skytrans\",\n          \"virgin Australia\",\n          \"Jetstar\"\n        ],\n        \"semantic_type\": \"\",\n        \"description\": \"\"\n      }\n    },\n    {\n      \"column\": \"Month\",\n      \"properties\": {\n        \"dtype\": \"date\",\n        \"min\": \"2020-01-01 00:00:00\",\n        \"max\": \"2024-02-01 00:00:00\",\n        \"num_unique_values\": 50,\n        \"samples\": [\n          \"2021-02-01 00:00:00\",\n          \"2023-04-01 00:00:00\",\n          \"2022-07-01 00:00:00\"\n        ],\n        \"semantic_type\": \"\",\n        \"description\": \"\"\n      }\n    },\n    {\n      \"column\": \"Sectors Scheduled\",\n      \"properties\": {\n        \"dtype\": \"number\",\n        \"std\": 1896,\n        \"min\": 1,\n        \"max\": 46976,\n        \"num_unique_values\": 1186,\n        \"samples\": [\n          235,\n          968,\n          532\n        ],\n        \"semantic_type\": \"\",\n        \"description\": \"\"\n      }\n    },\n    {\n      \"column\": \"Sectors Flown\",\n      \"properties\": {\n        \"dtype\": \"number\",\n        \"std\": 1795,\n        \"min\": 0,\n        \"max\": 45205,\n        \"num_unique_values\": 1181,\n        \"samples\": [\n          6422,\n          600,\n          12063\n        ],\n        \"semantic_type\": \"\",\n        \"description\": \"\"\n      }\n    },\n    {\n      \"column\": \"Cancellations\",\n      \"properties\": {\n        \"dtype\": \"number\",\n        \"std\": 146,\n        \"min\": 0,\n        \"max\": 9406,\n        \"num_unique_values\": 403,\n        \"samples\": [\n          146,\n          398,\n          4150\n        ],\n        \"semantic_type\": \"\",\n        \"description\": \"\"\n      }\n    },\n    {\n      \"column\": \"Departures On Time\",\n      \"properties\": {\n        \"dtype\": \"number\",\n        \"std\": 1315,\n        \"min\": 0,\n        \"max\": 33182,\n        \"num_unique_values\": 996,\n        \"samples\": [\n          3892,\n          5377,\n          104\n        ],\n        \"semantic_type\": \"\",\n        \"description\": \"\"\n      }\n    },\n    {\n      \"column\": \"Arrivals On Time\",\n      \"properties\": {\n        \"dtype\": \"number\",\n        \"std\": 1312,\n        \"min\": 0,\n        \"max\": 32785,\n        \"num_unique_values\": 994,\n        \"samples\": [\n          9038,\n          6951,\n          1934\n        ],\n        \"semantic_type\": \"\",\n        \"description\": \"\"\n      }\n    },\n    {\n      \"column\": \"Departures Delayed\",\n      \"properties\": {\n        \"dtype\": \"number\",\n        \"std\": 510,\n        \"min\": 0,\n        \"max\": 19436,\n        \"num_unique_values\": 638,\n        \"samples\": [\n          380,\n          1035,\n          49\n        ],\n        \"semantic_type\": \"\",\n        \"description\": \"\"\n      }\n    },\n    {\n      \"column\": \"Arrivals Delayed\",\n      \"properties\": {\n        \"dtype\": \"number\",\n        \"std\": 512,\n        \"min\": 0,\n        \"max\": 19034,\n        \"num_unique_values\": 636,\n        \"samples\": [\n          292,\n          241,\n          142\n        ],\n        \"semantic_type\": \"\",\n        \"description\": \"\"\n      }\n    },\n    {\n      \"column\": \"OnTime Departures \\n(%)\",\n      \"properties\": {\n        \"dtype\": \"category\",\n        \"num_unique_values\": 5994,\n        \"samples\": [\n          87.61467889908256,\n          83.76068376068376,\n          77.04918032786885\n        ],\n        \"semantic_type\": \"\",\n        \"description\": \"\"\n      }\n    },\n    {\n      \"column\": \"OnTime Arrivals \\n(%)\",\n      \"properties\": {\n        \"dtype\": \"category\",\n        \"num_unique_values\": 6005,\n        \"samples\": [\n          61.111111111111114,\n          67.04545454545455,\n          74.31978798586573\n        ],\n        \"semantic_type\": \"\",\n        \"description\": \"\"\n      }\n    },\n    {\n      \"column\": \"Cancellations \\n\\n(%)\",\n      \"properties\": {\n        \"dtype\": \"number\",\n        \"std\": 11.38948877173421,\n        \"min\": 0.0,\n        \"max\": 100.0,\n        \"num_unique_values\": 4020,\n        \"samples\": [\n          3.1411296268986875,\n          0.5617977528089888,\n          3.153153153153153\n        ],\n        \"semantic_type\": \"\",\n        \"description\": \"\"\n      }\n    }\n  ]\n}"
            }
          },
          "metadata": {},
          "execution_count": 16
        }
      ]
    },
    {
      "cell_type": "code",
      "source": [],
      "metadata": {
        "id": "4WqRAx4xkmUq"
      },
      "execution_count": null,
      "outputs": []
    }
  ],
  "metadata": {
    "colab": {
      "provenance": []
    },
    "kernelspec": {
      "display_name": "Python 3",
      "name": "python3"
    }
  },
  "nbformat": 4,
  "nbformat_minor": 0
}