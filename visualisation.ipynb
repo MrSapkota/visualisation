{
  "nbformat": 4,
  "nbformat_minor": 0,
  "metadata": {
    "colab": {
      "provenance": []
    },
    "kernelspec": {
      "name": "python3",
      "display_name": "Python 3"
    },
    "language_info": {
      "name": "python"
    }
  },
  "cells": [
    {
      "cell_type": "code",
      "source": [
        "import pandas as pd\n",
        "import numpy as np\n",
        "from scipy import stats\n",
        "from sklearn.preprocessing import StandardScaler, MinMaxScaler\n"
      ],
      "metadata": {
        "id": "lK8uSeFRJow8"
      },
      "execution_count": 27,
      "outputs": []
    },
    {
      "cell_type": "markdown",
      "source": [
        "# Load the dataset"
      ],
      "metadata": {
        "id": "owafkdzk3uuC"
      }
    },
    {
      "cell_type": "code",
      "source": [
        "file_path = '/content/cleaned_data.csv'\n",
        "data_cleaned = pd.read_csv(file_path)"
      ],
      "metadata": {
        "id": "Q2mJWMe73AIj"
      },
      "execution_count": 31,
      "outputs": []
    },
    {
      "cell_type": "markdown",
      "source": [
        "# Display original column names to identify the columns to rename"
      ],
      "metadata": {
        "id": "Y3F27uJc30C1"
      }
    },
    {
      "cell_type": "code",
      "source": [
        "original_column_names = data_cleaned.columns.tolist()\n",
        "print(\"Original Column Names:\\n\", original_column_names)"
      ],
      "metadata": {
        "colab": {
          "base_uri": "https://localhost:8080/"
        },
        "id": "E_1Xi_MP3sIM",
        "outputId": "fe4ef43d-b4d1-41d4-a8fc-0302b15af0a9"
      },
      "execution_count": 33,
      "outputs": [
        {
          "output_type": "stream",
          "name": "stdout",
          "text": [
            "Original Column Names:\n",
            " ['Route', 'Departing Port', 'Arriving Port', 'Airline', 'Month', 'Sectors Scheduled', 'Sectors Flown', 'Cancellations', 'Departures On Time', 'Arrivals On Time', 'Departures Delayed', 'Arrivals Delayed', 'OnTime Departures \\n(%)', 'OnTime Arrivals \\n(%)', 'Cancellations \\n\\n(%)']\n"
          ]
        }
      ]
    },
    {
      "cell_type": "markdown",
      "source": [
        "# Rename columns"
      ],
      "metadata": {
        "id": "xEsTDIvF35JO"
      }
    },
    {
      "cell_type": "code",
      "source": [
        "data_cleaned.rename(columns={\n",
        "    'ontime_departures_\\n(%)': 'ontime_departures_(%)',\n",
        "    'ontime_arrivals_\\n(%)': 'ontime_arrivals_(%)',\n",
        "    'cancellations_\\n\\n(%)': 'cancellations_(%)'\n",
        "}, inplace=True)\n"
      ],
      "metadata": {
        "id": "bf1jsNv632ew"
      },
      "execution_count": 34,
      "outputs": []
    },
    {
      "cell_type": "markdown",
      "source": [
        "# Display updated column names to verify renaming"
      ],
      "metadata": {
        "id": "2wLWm0gD3-KU"
      }
    },
    {
      "cell_type": "code",
      "source": [
        "updated_column_names = data_cleaned.columns.tolist()\n",
        "print(\"Updated Column Names:\\n\", updated_column_names)"
      ],
      "metadata": {
        "colab": {
          "base_uri": "https://localhost:8080/"
        },
        "id": "gL9MMtk237bX",
        "outputId": "11251a09-458f-47a4-cbfa-c40173c9dd02"
      },
      "execution_count": 35,
      "outputs": [
        {
          "output_type": "stream",
          "name": "stdout",
          "text": [
            "Updated Column Names:\n",
            " ['Route', 'Departing Port', 'Arriving Port', 'Airline', 'Month', 'Sectors Scheduled', 'Sectors Flown', 'Cancellations', 'Departures On Time', 'Arrivals On Time', 'Departures Delayed', 'Arrivals Delayed', 'OnTime Departures \\n(%)', 'OnTime Arrivals \\n(%)', 'Cancellations \\n\\n(%)']\n"
          ]
        }
      ]
    },
    {
      "cell_type": "markdown",
      "source": [
        "# Identify missing values"
      ],
      "metadata": {
        "id": "oIGcZ9rf4DrX"
      }
    },
    {
      "cell_type": "code",
      "source": [
        "missing_values = data_cleaned.isnull().sum()\n",
        "print(\"Missing values in each column:\\n\", missing_values)"
      ],
      "metadata": {
        "colab": {
          "base_uri": "https://localhost:8080/"
        },
        "id": "ZGYTlqnN4BLd",
        "outputId": "cd4727bc-ca81-49f5-ba91-d920f15f50a9"
      },
      "execution_count": 36,
      "outputs": [
        {
          "output_type": "stream",
          "name": "stdout",
          "text": [
            "Missing values in each column:\n",
            " Route                      0\n",
            "Departing Port             0\n",
            "Arriving Port              0\n",
            "Airline                    0\n",
            "Month                      0\n",
            "Sectors Scheduled          0\n",
            "Sectors Flown              0\n",
            "Cancellations              0\n",
            "Departures On Time         0\n",
            "Arrivals On Time           0\n",
            "Departures Delayed         0\n",
            "Arrivals Delayed           0\n",
            "OnTime Departures \\n(%)    0\n",
            "OnTime Arrivals \\n(%)      0\n",
            "Cancellations \\n\\n(%)      0\n",
            "dtype: int64\n"
          ]
        }
      ]
    },
    {
      "cell_type": "markdown",
      "source": [
        "# Fill missing values"
      ],
      "metadata": {
        "id": "W5jkcVq34Is8"
      }
    },
    {
      "cell_type": "code",
      "source": [
        "for column in data_cleaned.columns:\n",
        "    if data_cleaned[column].dtype == 'object':\n",
        "        data_cleaned[column].fillna(data_cleaned[column].mode()[0], inplace=True)\n",
        "    else:\n",
        "        data_cleaned[column].fillna(data_cleaned[column].median(), inplace=True)\n"
      ],
      "metadata": {
        "id": "slcer2mi4F9E"
      },
      "execution_count": 37,
      "outputs": []
    },
    {
      "cell_type": "markdown",
      "source": [
        "# Remove rows or columns with significant missing data if necessary"
      ],
      "metadata": {
        "id": "dFE2naSJ4OAb"
      }
    },
    {
      "cell_type": "code",
      "source": [
        "threshold = 0.6  # Remove columns with more than 60% missing values\n",
        "data_cleaned.dropna(thresh=int(threshold * len(data_cleaned)), axis=1, inplace=True)\n",
        "data_cleaned.dropna(inplace=True)\n"
      ],
      "metadata": {
        "id": "LoR7Vqqu4LCx"
      },
      "execution_count": 38,
      "outputs": []
    },
    {
      "cell_type": "code",
      "source": [
        "# Identify and remove duplicate rows"
      ],
      "metadata": {
        "id": "_cLStZsv4VZX"
      },
      "execution_count": 39,
      "outputs": []
    },
    {
      "cell_type": "code",
      "source": [
        "duplicates = data_cleaned.duplicated()\n",
        "print(f\"Number of duplicate rows: {duplicates.sum()}\")\n",
        "data_cleaned = data_cleaned.drop_duplicates()"
      ],
      "metadata": {
        "colab": {
          "base_uri": "https://localhost:8080/"
        },
        "id": "QQfXicjQ4R0K",
        "outputId": "919b7476-8842-44e0-de82-4417d8fb825c"
      },
      "execution_count": 40,
      "outputs": [
        {
          "output_type": "stream",
          "name": "stdout",
          "text": [
            "Number of duplicate rows: 0\n"
          ]
        }
      ]
    },
    {
      "cell_type": "markdown",
      "source": [
        "# Using Z-score to detect outliers"
      ],
      "metadata": {
        "id": "NKizfgGg4Z36"
      }
    },
    {
      "cell_type": "code",
      "source": [
        "z_scores = np.abs(stats.zscore(data_cleaned.select_dtypes(include=[np.number])))\n",
        "outliers = (z_scores > 3).sum(axis=1)\n",
        "print(f\"Number of outliers: {(outliers > 0).sum()}\")"
      ],
      "metadata": {
        "colab": {
          "base_uri": "https://localhost:8080/"
        },
        "id": "YEGK6YfT4XlN",
        "outputId": "701d5ead-869c-4a8b-cf06-940b06393adb"
      },
      "execution_count": 41,
      "outputs": [
        {
          "output_type": "stream",
          "name": "stdout",
          "text": [
            "Number of outliers: 783\n"
          ]
        }
      ]
    },
    {
      "cell_type": "markdown",
      "source": [
        "# remove outliers"
      ],
      "metadata": {
        "id": "D47o1iUG4fSq"
      }
    },
    {
      "cell_type": "code",
      "source": [
        "data_cleaned = data_cleaned[(z_scores < 3).all(axis=1)]"
      ],
      "metadata": {
        "id": "7XJYyLa74cCU"
      },
      "execution_count": 42,
      "outputs": []
    },
    {
      "cell_type": "markdown",
      "source": [
        "# Standardize data"
      ],
      "metadata": {
        "id": "yLfv2Hxa4mB2"
      }
    },
    {
      "cell_type": "code",
      "source": [
        "scaler = StandardScaler()\n",
        "data_standardized = pd.DataFrame(scaler.fit_transform(data_cleaned.select_dtypes(include=[np.number])), columns=data_cleaned.select_dtypes(include=[np.number]).columns)\n"
      ],
      "metadata": {
        "id": "pZfZUZlX4jSM"
      },
      "execution_count": 43,
      "outputs": []
    },
    {
      "cell_type": "markdown",
      "source": [
        "# Normalize data"
      ],
      "metadata": {
        "id": "C5r3JeJ94ska"
      }
    },
    {
      "cell_type": "code",
      "source": [
        "scaler = MinMaxScaler()\n",
        "data_normalized = pd.DataFrame(scaler.fit_transform(data_cleaned.select_dtypes(include=[np.number])), columns=data_cleaned.select_dtypes(include=[np.number]).columns)"
      ],
      "metadata": {
        "id": "K7MNPxel4oaF"
      },
      "execution_count": 44,
      "outputs": []
    },
    {
      "cell_type": "markdown",
      "source": [
        "# Convert columns to appropriate data types"
      ],
      "metadata": {
        "id": "MdE9V4Ql4ypf"
      }
    },
    {
      "cell_type": "code",
      "source": [
        "data_cleaned['Month'] = pd.to_datetime(data_cleaned['Month'], errors='coerce')\n"
      ],
      "metadata": {
        "id": "MNAAVgax4vIt"
      },
      "execution_count": 46,
      "outputs": []
    },
    {
      "cell_type": "markdown",
      "source": [
        "# Ensure categorical consistency"
      ],
      "metadata": {
        "id": "6z1mCJps5Edy"
      }
    },
    {
      "cell_type": "code",
      "source": [
        "data_cleaned['Route'] = data_cleaned['Route'].str.strip().str.lower()"
      ],
      "metadata": {
        "id": "-haGHdmZ42Hz"
      },
      "execution_count": 48,
      "outputs": []
    },
    {
      "cell_type": "markdown",
      "source": [
        "# Encoding categorical data"
      ],
      "metadata": {
        "id": "41Ma-NWb5Ny3"
      }
    },
    {
      "cell_type": "code",
      "source": [
        "data_encoded = pd.get_dummies(data_cleaned, columns=['Route', 'Airline'], drop_first=True)\n"
      ],
      "metadata": {
        "id": "jCw6dsWW5G7J"
      },
      "execution_count": 50,
      "outputs": []
    },
    {
      "cell_type": "markdown",
      "source": [
        "# Apply consistent formatting"
      ],
      "metadata": {
        "id": "gFkZZvTi5gMt"
      }
    },
    {
      "cell_type": "code",
      "source": [
        "data_cleaned.columns = data_cleaned.columns.str.strip().str.lower().str.replace(' ', '_')\n"
      ],
      "metadata": {
        "id": "jMHjFSj-5ggh"
      },
      "execution_count": 51,
      "outputs": []
    },
    {
      "cell_type": "markdown",
      "source": [
        "# Display column names to identify irrelevant columns"
      ],
      "metadata": {
        "id": "0qtpn9B95n7B"
      }
    },
    {
      "cell_type": "code",
      "source": [
        "column_names = data_cleaned.columns.tolist()\n",
        "print(\"Column Names:\\n\", column_names)\n"
      ],
      "metadata": {
        "colab": {
          "base_uri": "https://localhost:8080/"
        },
        "id": "MUONvAo25k09",
        "outputId": "64dcb3fb-98f0-4d2e-8f1c-b186da43312a"
      },
      "execution_count": 52,
      "outputs": [
        {
          "output_type": "stream",
          "name": "stdout",
          "text": [
            "Column Names:\n",
            " ['route', 'departing_port', 'arriving_port', 'airline', 'month', 'sectors_scheduled', 'sectors_flown', 'cancellations', 'departures_on_time', 'arrivals_on_time', 'departures_delayed', 'arrivals_delayed', 'ontime_departures_\\n(%)', 'ontime_arrivals_\\n(%)', 'cancellations_\\n\\n(%)']\n"
          ]
        }
      ]
    },
    {
      "cell_type": "markdown",
      "source": [
        "# Aggregate data"
      ],
      "metadata": {
        "id": "M6qVjePF5ufs"
      }
    },
    {
      "cell_type": "code",
      "source": [
        "data_aggregated = data_cleaned.groupby('month').agg({\n",
        "    'sectors_flown': 'sum',\n",
        "    'cancellations': 'sum',\n",
        "    'departures_on_time': 'mean',\n",
        "    'arrivals_on_time': 'mean'\n",
        "}).reset_index()\n"
      ],
      "metadata": {
        "id": "jXovZXiO5wKu"
      },
      "execution_count": 53,
      "outputs": []
    },
    {
      "cell_type": "markdown",
      "source": [
        "# Transform data"
      ],
      "metadata": {
        "id": "NeTWlhSb54f4"
      }
    },
    {
      "cell_type": "code",
      "source": [
        "data_aggregated['log_sectors_flown'] = np.log1p(data_aggregated['sectors_flown'])"
      ],
      "metadata": {
        "id": "xKAZTchZ5x_1"
      },
      "execution_count": 54,
      "outputs": []
    },
    {
      "cell_type": "markdown",
      "source": [
        "# Create new features"
      ],
      "metadata": {
        "id": "NrJ72fg_6A1s"
      }
    },
    {
      "cell_type": "code",
      "source": [
        "data_cleaned['on_time_ratio'] = data_cleaned['departures_on_time'] / data_cleaned['arrivals_on_time']"
      ],
      "metadata": {
        "id": "U_iiNE7P59oL"
      },
      "execution_count": 55,
      "outputs": []
    },
    {
      "cell_type": "markdown",
      "source": [
        "# Automate checks"
      ],
      "metadata": {
        "id": "zPewFfmg6IC4"
      }
    },
    {
      "cell_type": "code",
      "source": [
        "def validate_data(df):\n",
        "    assert df.isnull().sum().sum() == 0, \"There are missing values\"\n",
        "    assert df"
      ],
      "metadata": {
        "id": "JrbJwdAP6Dsj"
      },
      "execution_count": 56,
      "outputs": []
    },
    {
      "cell_type": "markdown",
      "source": [
        "#Downloading the cleaned dataset"
      ],
      "metadata": {
        "id": "9nBHZOTY8H6g"
      }
    },
    {
      "cell_type": "code",
      "source": [
        "import pandas as pd\n",
        "\n",
        "# Save the cleaned and renamed dataset to a new CSV file\n",
        "data_cleaned.to_csv('cleaned_data_final.csv', index=False)\n",
        "\n",
        "from google.colab import files\n",
        "\n",
        "# Download the file\n",
        "files.download('cleaned_data_final.csv')\n"
      ],
      "metadata": {
        "colab": {
          "base_uri": "https://localhost:8080/",
          "height": 17
        },
        "id": "uMcfDvKo79e6",
        "outputId": "32d5d8c2-0c9c-48aa-8e9d-4053581ffa3b"
      },
      "execution_count": 67,
      "outputs": [
        {
          "output_type": "display_data",
          "data": {
            "text/plain": [
              "<IPython.core.display.Javascript object>"
            ],
            "application/javascript": [
              "\n",
              "    async function download(id, filename, size) {\n",
              "      if (!google.colab.kernel.accessAllowed) {\n",
              "        return;\n",
              "      }\n",
              "      const div = document.createElement('div');\n",
              "      const label = document.createElement('label');\n",
              "      label.textContent = `Downloading \"${filename}\": `;\n",
              "      div.appendChild(label);\n",
              "      const progress = document.createElement('progress');\n",
              "      progress.max = size;\n",
              "      div.appendChild(progress);\n",
              "      document.body.appendChild(div);\n",
              "\n",
              "      const buffers = [];\n",
              "      let downloaded = 0;\n",
              "\n",
              "      const channel = await google.colab.kernel.comms.open(id);\n",
              "      // Send a message to notify the kernel that we're ready.\n",
              "      channel.send({})\n",
              "\n",
              "      for await (const message of channel.messages) {\n",
              "        // Send a message to notify the kernel that we're ready.\n",
              "        channel.send({})\n",
              "        if (message.buffers) {\n",
              "          for (const buffer of message.buffers) {\n",
              "            buffers.push(buffer);\n",
              "            downloaded += buffer.byteLength;\n",
              "            progress.value = downloaded;\n",
              "          }\n",
              "        }\n",
              "      }\n",
              "      const blob = new Blob(buffers, {type: 'application/binary'});\n",
              "      const a = document.createElement('a');\n",
              "      a.href = window.URL.createObjectURL(blob);\n",
              "      a.download = filename;\n",
              "      div.appendChild(a);\n",
              "      a.click();\n",
              "      div.remove();\n",
              "    }\n",
              "  "
            ]
          },
          "metadata": {}
        },
        {
          "output_type": "display_data",
          "data": {
            "text/plain": [
              "<IPython.core.display.Javascript object>"
            ],
            "application/javascript": [
              "download(\"download_3139ab29-3f8f-44fa-9023-9eb2b1cd053e\", \"cleaned_data_final.csv\", 2922742)"
            ]
          },
          "metadata": {}
        }
      ]
    }
  ]
}